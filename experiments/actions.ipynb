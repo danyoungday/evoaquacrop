{
 "cells": [
  {
   "cell_type": "code",
   "execution_count": 76,
   "metadata": {},
   "outputs": [],
   "source": [
    "import os\n",
    "os.environ[\"DEVELOPMENT\"] = \"DEVELOPMENT\""
   ]
  },
  {
   "cell_type": "code",
   "execution_count": 77,
   "metadata": {},
   "outputs": [],
   "source": [
    "import json\n",
    "from pathlib import Path\n",
    "\n",
    "import matplotlib.pyplot as plt\n",
    "import pandas as pd\n",
    "import torch\n",
    "from tqdm import tqdm\n",
    "\n",
    "from evolution.candidate import Candidate\n",
    "from evolution.evaluation.evaluator import Evaluator"
   ]
  },
  {
   "cell_type": "code",
   "execution_count": 78,
   "metadata": {},
   "outputs": [
    {
     "name": "stdout",
     "output_type": "stream",
     "text": [
      "17 ['yield', 'irr']\n"
     ]
    }
   ],
   "source": [
    "results_dir = Path(\"results/simplify/nofield\")\n",
    "config = json.load(open(results_dir / \"config.json\"))\n",
    "# Number of numbered csv files\n",
    "gens = len(list(results_dir.glob(\"[0-9]*.csv\")))-1\n",
    "tasks = config[\"evaluation_params\"][\"tasks\"]\n",
    "evaluation_params = config[\"evaluation_params\"]\n",
    "model_params = config[\"model_params\"]\n",
    "n_elites = config[\"evolution_params\"][\"n_elites\"]\n",
    "print(gens, tasks)"
   ]
  },
  {
   "cell_type": "code",
   "execution_count": 79,
   "metadata": {},
   "outputs": [
    {
     "name": "stdout",
     "output_type": "stream",
     "text": [
      "   cand_id             parents  rank  distance      yield     irr\n",
      "0     12_1  ['11_78', '11_14']     1       inf  14.322066 -497.25\n",
      "18   17_42  ['16_37', '16_28']     1  0.011289  14.172896 -483.00\n",
      "8    16_77   ['14_2', '15_38']     1  0.037379  14.130718 -443.25\n",
      "19   16_66  ['15_28', '15_47']     1  0.010586  14.117455 -424.50\n",
      "16   17_76  ['16_68', '16_10']     1  0.016694  14.075095 -381.00\n",
      "20   17_25  ['16_15', '15_63']     1  0.005881  14.020166 -377.25\n",
      "13   17_20  ['16_62', '16_51']     1  0.022137  13.918698 -362.25\n",
      "3     17_5  ['15_31', '15_31']     1  0.053963  13.727728 -312.00\n",
      "17   17_21  ['16_51', '15_40']     1  0.012747  13.577436 -282.00\n",
      "12   17_19  ['16_65', '15_63']     1  0.023910  13.411246 -279.00\n",
      "4    17_39  ['16_65', '16_84']     1  0.050196  13.228578 -270.00\n",
      "11   17_70  ['15_40', '16_10']     1  0.025756  13.197691 -243.75\n",
      "15   17_41  ['15_32', '16_38']     1  0.018483  12.511927 -214.50\n",
      "10   17_87  ['16_62', '16_68']     1  0.033962  12.292100 -192.75\n",
      "14   17_66  ['16_84', '15_32']     1  0.018910  12.219323 -184.50\n",
      "9    16_68   ['15_8', '15_47']     1  0.036412  12.213355 -176.25\n",
      "6    17_23  ['14_15', '16_68']     1  0.045804  12.101492 -168.75\n",
      "7    17_67  ['15_32', '14_15']     1  0.041159  11.941950 -148.50\n",
      "5    16_84  ['14_15', '14_15']     1  0.046545  11.537235 -111.75\n",
      "2    14_15  ['13_55', '13_46']     1  0.067520  11.390482 -103.50\n",
      "1    17_72  ['12_40', '12_40']     1       inf  10.992730   -0.00\n"
     ]
    }
   ],
   "source": [
    "final_gen_df = pd.read_csv(results_dir / f\"{gens}.csv\")\n",
    "final_pareto = final_gen_df[final_gen_df[\"rank\"] == 1]\n",
    "candidates = []\n",
    "print(final_pareto.sort_values(by=\"yield\", ascending=False))"
   ]
  },
  {
   "cell_type": "code",
   "execution_count": 80,
   "metadata": {},
   "outputs": [
    {
     "name": "stdout",
     "output_type": "stream",
     "text": [
      "Loaded 20 year pairs of weather data\n"
     ]
    }
   ],
   "source": [
    "evaluator = Evaluator(**evaluation_params)\n",
    "torch_weathers = evaluator.torch_weathers"
   ]
  },
  {
   "cell_type": "code",
   "execution_count": 81,
   "metadata": {},
   "outputs": [],
   "source": [
    "def get_candidate_actions(candidate: Candidate, torch_weather: torch.tensor):\n",
    "    with torch.no_grad():\n",
    "        params = candidate.prescribe(torch_weather.unsqueeze(0))[0]\n",
    "    return params\n",
    "\n",
    "def get_candidate_from_id(results_dir: Path, cand_id: str):\n",
    "    cand_path = results_dir / cand_id.split(\"_\")[0] / f\"{cand_id}.pt\"\n",
    "    return Candidate.from_seed(cand_path, model_params, tasks)"
   ]
  },
  {
   "cell_type": "code",
   "execution_count": 82,
   "metadata": {},
   "outputs": [],
   "source": [
    "candidate = get_candidate_from_id(results_dir, final_pareto.sort_values(by=\"yield\", ascending=False).iloc[-1][\"cand_id\"])\n",
    "actions = [get_candidate_actions(candidate, w) for w in torch_weathers]\n",
    "yields, irrs = evaluator.evaluate_candidate(candidate)"
   ]
  },
  {
   "cell_type": "code",
   "execution_count": 83,
   "metadata": {},
   "outputs": [
    {
     "name": "stdout",
     "output_type": "stream",
     "text": [
      "{'irrigation_management': {'irrigation_method': 1, 'SMT': array([5.7281137, 9.741968 , 2.0402563, 4.4677863], dtype=float32), 'max_irr_season': 58.023476}, 'crop': {'c_name': 'Potato', 'planting_date': '10/18'}} 10.241962956347438 0\n",
      "{'irrigation_management': {'irrigation_method': 1, 'SMT': array([5.590502 , 9.726099 , 2.130803 , 4.4725795], dtype=float32), 'max_irr_season': 53.797737}, 'crop': {'c_name': 'Potato', 'planting_date': '10/16'}} 10.510073390080198 0\n",
      "{'irrigation_management': {'irrigation_method': 1, 'SMT': array([5.7996087, 9.348555 , 2.1431084, 4.58429  ], dtype=float32), 'max_irr_season': 58.25763}, 'crop': {'c_name': 'Potato', 'planting_date': '10/17'}} 10.885970493847939 0\n",
      "{'irrigation_management': {'irrigation_method': 1, 'SMT': array([ 5.9078956, 10.080391 ,  2.0227907,  4.5906534], dtype=float32), 'max_irr_season': 61.28037}, 'crop': {'c_name': 'Potato', 'planting_date': '10/17'}} 10.862875737530718 0\n",
      "{'irrigation_management': {'irrigation_method': 1, 'SMT': array([5.8432484, 9.883059 , 2.039897 , 4.5034957], dtype=float32), 'max_irr_season': 59.35384}, 'crop': {'c_name': 'Potato', 'planting_date': '10/17'}} 10.499501010706057 0\n",
      "{'irrigation_management': {'irrigation_method': 1, 'SMT': array([5.479452, 9.152669, 2.114394, 4.50598 ], dtype=float32), 'max_irr_season': 53.173058}, 'crop': {'c_name': 'Potato', 'planting_date': '10/15'}} 11.041987623464806 0\n",
      "{'irrigation_management': {'irrigation_method': 1, 'SMT': array([5.8126698, 9.726709 , 2.0808008, 4.4493785], dtype=float32), 'max_irr_season': 57.778492}, 'crop': {'c_name': 'Potato', 'planting_date': '10/18'}} 11.003616549555455 0\n",
      "{'irrigation_management': {'irrigation_method': 1, 'SMT': array([ 5.9241614, 10.073848 ,  2.0172215,  4.583765 ], dtype=float32), 'max_irr_season': 61.7964}, 'crop': {'c_name': 'Potato', 'planting_date': '10/17'}} 10.502111836593462 0\n",
      "{'irrigation_management': {'irrigation_method': 1, 'SMT': array([5.8958254, 9.963613 , 2.044017 , 4.579987 ], dtype=float32), 'max_irr_season': 60.656147}, 'crop': {'c_name': 'Potato', 'planting_date': '10/17'}} 10.816528295997172 0\n",
      "{'irrigation_management': {'irrigation_method': 1, 'SMT': array([ 5.8730907, 10.116597 ,  2.054855 ,  4.566458 ], dtype=float32), 'max_irr_season': 60.2833}, 'crop': {'c_name': 'Potato', 'planting_date': '10/17'}} 11.30021708631035 0\n",
      "{'irrigation_management': {'irrigation_method': 1, 'SMT': array([5.6707506, 9.508588 , 2.0431097, 4.4639144], dtype=float32), 'max_irr_season': 56.409058}, 'crop': {'c_name': 'Potato', 'planting_date': '10/17'}} 11.256159708175632 0\n",
      "{'irrigation_management': {'irrigation_method': 1, 'SMT': array([5.7480183, 9.409573 , 2.0035083, 4.4648266], dtype=float32), 'max_irr_season': 58.17563}, 'crop': {'c_name': 'Potato', 'planting_date': '10/17'}} 11.356373531481177 0\n",
      "{'irrigation_management': {'irrigation_method': 1, 'SMT': array([ 6.0696864, 10.510213 ,  2.0614321,  4.725051 ], dtype=float32), 'max_irr_season': 64.2144}, 'crop': {'c_name': 'Potato', 'planting_date': '10/17'}} 11.15140295558817 0\n",
      "{'irrigation_management': {'irrigation_method': 1, 'SMT': array([5.904401 , 9.824308 , 1.9607099, 4.573356 ], dtype=float32), 'max_irr_season': 61.821472}, 'crop': {'c_name': 'Potato', 'planting_date': '10/17'}} 11.054874213412354 0\n",
      "{'irrigation_management': {'irrigation_method': 1, 'SMT': array([5.7783556, 9.994377 , 2.0687995, 4.5315137], dtype=float32), 'max_irr_season': 58.730762}, 'crop': {'c_name': 'Potato', 'planting_date': '10/17'}} 10.88289555134827 0\n",
      "{'irrigation_management': {'irrigation_method': 1, 'SMT': array([5.7507954, 9.600877 , 2.1233287, 4.5587406], dtype=float32), 'max_irr_season': 57.84592}, 'crop': {'c_name': 'Potato', 'planting_date': '10/17'}} 11.523679059399722 0\n",
      "{'irrigation_management': {'irrigation_method': 1, 'SMT': array([5.672958 , 9.595622 , 2.2012255, 4.5642242], dtype=float32), 'max_irr_season': 53.411514}, 'crop': {'c_name': 'Potato', 'planting_date': '10/16'}} 10.834601836686085 0\n",
      "{'irrigation_management': {'irrigation_method': 1, 'SMT': array([5.7903986, 9.49556  , 2.0487304, 4.527686 ], dtype=float32), 'max_irr_season': 58.656136}, 'crop': {'c_name': 'Potato', 'planting_date': '10/17'}} 11.618882132634164 0\n",
      "{'irrigation_management': {'irrigation_method': 1, 'SMT': array([5.7313433, 9.590612 , 2.018133 , 4.4439645], dtype=float32), 'max_irr_season': 57.77922}, 'crop': {'c_name': 'Potato', 'planting_date': '10/18'}} 10.769726992827017 0\n",
      "{'irrigation_management': {'irrigation_method': 1, 'SMT': array([5.927275 , 9.979742 , 2.0301907, 4.64437  ], dtype=float32), 'max_irr_season': 61.951855}, 'crop': {'c_name': 'Potato', 'planting_date': '10/17'}} 11.74129067853272 0\n"
     ]
    }
   ],
   "source": [
    "for action, yie, irr in zip(actions, yields, irrs):\n",
    "    print(action, yie, irr)"
   ]
  },
  {
   "cell_type": "code",
   "execution_count": 84,
   "metadata": {},
   "outputs": [],
   "source": [
    "all_actions = []\n",
    "for cand_id in final_pareto[\"cand_id\"]:\n",
    "    candidate = get_candidate_from_id(results_dir, cand_id)\n",
    "    actions = [get_candidate_actions(candidate, w) for w in torch_weathers]\n",
    "    all_actions.append(actions)"
   ]
  },
  {
   "cell_type": "code",
   "execution_count": 85,
   "metadata": {},
   "outputs": [],
   "source": [
    "action_pareto = final_pareto.copy()\n",
    "crop_col = []\n",
    "mulch_col = []\n",
    "bund_water_col = []\n",
    "bund_height_col = []\n",
    "for actions in all_actions:\n",
    "    point_crops = set()\n",
    "    avg_mulch = 0\n",
    "    avg_bund_water = 0\n",
    "    avg_bund_height = 0\n",
    "    for action in actions:\n",
    "        point_crops.add(action[\"crop\"][\"c_name\"])\n",
    "        # avg_mulch += action[\"field_management\"][\"mulch_pct\"]\n",
    "        # avg_bund_water += action[\"field_management\"][\"bund_water\"]\n",
    "        # avg_bund_height += action[\"field_management\"][\"z_bund\"]\n",
    "    avg_mulch /= len(actions)\n",
    "    avg_bund_water /= len(actions)\n",
    "    avg_bund_height /= len(actions)\n",
    "    point_crops = sorted(list(point_crops))\n",
    "    crop_str = \",\".join(point_crops)\n",
    "    crop_col.append(crop_str)\n",
    "    mulch_col.append(avg_mulch)\n",
    "    bund_water_col.append(avg_bund_water)\n",
    "    bund_height_col.append(avg_bund_height)\n",
    "action_pareto[\"crops\"] = crop_col\n",
    "action_pareto[\"mulch\"] = mulch_col\n",
    "action_pareto[\"bund_water\"] = bund_water_col\n",
    "action_pareto[\"bund_height\"] = bund_height_col"
   ]
  },
  {
   "cell_type": "code",
   "execution_count": 86,
   "metadata": {},
   "outputs": [
    {
     "data": {
      "image/png": "[encoded data removed]",
      "text/plain": [
       "<Figure size 640x480 with 1 Axes>"
      ]
     },
     "metadata": {},
     "output_type": "display_data"
    }
   ],
   "source": [
    "for action_crop in action_pareto[\"crops\"].unique():\n",
    "    subset = action_pareto[action_pareto[\"crops\"] == action_crop]\n",
    "    plt.scatter(-1 * subset[\"irr\"], subset[\"yield\"], label=action_crop)\n",
    "plt.legend()\n",
    "plt.xlabel(\"irrigation\")\n",
    "plt.ylabel(\"yield\")\n",
    "plt.title(\"yield vs. irrigation colored by crop used\")\n",
    "plt.show()"
   ]
  },
  {
   "cell_type": "code",
   "execution_count": 87,
   "metadata": {},
   "outputs": [
    {
     "name": "stdout",
     "output_type": "stream",
     "text": [
      "0 {'Potato', 'Maize'}\n",
      "1 {'Wheat', 'Potato', 'Maize'}\n",
      "2 {'Potato', 'Maize'}\n",
      "3 {'Cotton', 'Potato', 'Maize', 'Tomato'}\n",
      "4 {'Potato', 'Maize', 'Sorghum'}\n",
      "5 {'Potato', 'Soybean', 'Maize'}\n",
      "6 {'Potato', 'Soybean', 'Maize'}\n",
      "7 {'Potato', 'Maize', 'Quinoa'}\n",
      "8 {'Potato', 'Maize'}\n",
      "9 {'Potato', 'Maize'}\n",
      "10 {'Potato', 'Maize'}\n",
      "11 {'Potato', 'Maize'}\n",
      "12 {'Potato', 'Maize'}\n",
      "13 {'Potato', 'Maize'}\n",
      "14 {'Potato', 'Maize'}\n",
      "15 {'Potato', 'Maize'}\n",
      "16 {'Potato', 'Maize'}\n",
      "17 {'Potato', 'Maize'}\n"
     ]
    }
   ],
   "source": [
    "# Get all crops used in each generations\n",
    "for gen in range(gens+1):\n",
    "    gen_df = pd.read_csv(results_dir / f\"{gen}.csv\")\n",
    "    gen_pareto = gen_df[gen_df[\"rank\"] == 1]\n",
    "    gen_crops = set()\n",
    "    for cand_id in gen_pareto[\"cand_id\"]:\n",
    "        cand = get_candidate_from_id(results_dir, cand_id)\n",
    "        actions = [get_candidate_actions(cand, w) for w in torch_weathers]\n",
    "        for action in actions:\n",
    "            gen_crops.add(action[\"crop\"][\"c_name\"])\n",
    "    print(gen, gen_crops)"
   ]
  }
 ],
 "metadata": {
  "kernelspec": {
   "display_name": "aquacrop",
   "language": "python",
   "name": "python3"
  },
  "language_info": {
   "codemirror_mode": {
    "name": "ipython",
    "version": 3
   },
   "file_extension": ".py",
   "mimetype": "text/x-python",
   "name": "python",
   "nbconvert_exporter": "python",
   "pygments_lexer": "ipython3",
   "version": "3.10.14"
  }
 },
 "nbformat": 4,
 "nbformat_minor": 2
}
